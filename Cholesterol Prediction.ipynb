{
 "cells": [
  {
   "cell_type": "markdown",
   "metadata": {},
   "source": [
    "### Cholesterol level prediction"
   ]
  },
  {
   "cell_type": "code",
   "execution_count": 115,
   "metadata": {},
   "outputs": [],
   "source": [
    "# Import required library\n",
    "import numpy as np\n",
    "import pandas as pd\n",
    "import matplotlib.pyplot as plt\n",
    "import seaborn as sns"
   ]
  },
  {
   "cell_type": "code",
   "execution_count": 116,
   "metadata": {},
   "outputs": [
    {
     "data": {
      "text/html": [
       "<div>\n",
       "<style scoped>\n",
       "    .dataframe tbody tr th:only-of-type {\n",
       "        vertical-align: middle;\n",
       "    }\n",
       "\n",
       "    .dataframe tbody tr th {\n",
       "        vertical-align: top;\n",
       "    }\n",
       "\n",
       "    .dataframe thead th {\n",
       "        text-align: right;\n",
       "    }\n",
       "</style>\n",
       "<table border=\"1\" class=\"dataframe\">\n",
       "  <thead>\n",
       "    <tr style=\"text-align: right;\">\n",
       "      <th></th>\n",
       "      <th>Date</th>\n",
       "      <th>Weight in Pounds</th>\n",
       "      <th>BMI</th>\n",
       "      <th>Cholesterol</th>\n",
       "      <th>Unnamed: 4</th>\n",
       "      <th>Unnamed: 5</th>\n",
       "    </tr>\n",
       "  </thead>\n",
       "  <tbody>\n",
       "    <tr>\n",
       "      <th>0</th>\n",
       "      <td>1-Jul-93</td>\n",
       "      <td>201.38</td>\n",
       "      <td>85.35058</td>\n",
       "      <td>251</td>\n",
       "      <td>NaN</td>\n",
       "      <td>NaN</td>\n",
       "    </tr>\n",
       "    <tr>\n",
       "      <th>1</th>\n",
       "      <td>2-Jul-93</td>\n",
       "      <td>202.39</td>\n",
       "      <td>85.31267</td>\n",
       "      <td>255</td>\n",
       "      <td>NaN</td>\n",
       "      <td>NaN</td>\n",
       "    </tr>\n",
       "    <tr>\n",
       "      <th>2</th>\n",
       "      <td>3-Jul-93</td>\n",
       "      <td>188.84</td>\n",
       "      <td>85.13161</td>\n",
       "      <td>245</td>\n",
       "      <td>NaN</td>\n",
       "      <td>NaN</td>\n",
       "    </tr>\n",
       "    <tr>\n",
       "      <th>3</th>\n",
       "      <td>4-Jul-93</td>\n",
       "      <td>184.13</td>\n",
       "      <td>85.16573</td>\n",
       "      <td>236</td>\n",
       "      <td>NaN</td>\n",
       "      <td>NaN</td>\n",
       "    </tr>\n",
       "    <tr>\n",
       "      <th>4</th>\n",
       "      <td>5-Jul-93</td>\n",
       "      <td>192.51</td>\n",
       "      <td>85.15533</td>\n",
       "      <td>247</td>\n",
       "      <td>NaN</td>\n",
       "      <td>NaN</td>\n",
       "    </tr>\n",
       "  </tbody>\n",
       "</table>\n",
       "</div>"
      ],
      "text/plain": [
       "       Date  Weight in Pounds       BMI  Cholesterol  Unnamed: 4  Unnamed: 5\n",
       "0  1-Jul-93            201.38  85.35058          251         NaN         NaN\n",
       "1  2-Jul-93            202.39  85.31267          255         NaN         NaN\n",
       "2  3-Jul-93            188.84  85.13161          245         NaN         NaN\n",
       "3  4-Jul-93            184.13  85.16573          236         NaN         NaN\n",
       "4  5-Jul-93            192.51  85.15533          247         NaN         NaN"
      ]
     },
     "execution_count": 116,
     "metadata": {},
     "output_type": "execute_result"
    }
   ],
   "source": [
    "# loading datasets\n",
    "df = pd.read_csv('BMI_Data.csv')\n",
    "df.head()"
   ]
  },
  {
   "cell_type": "code",
   "execution_count": 117,
   "metadata": {},
   "outputs": [
    {
     "data": {
      "text/html": [
       "<div>\n",
       "<style scoped>\n",
       "    .dataframe tbody tr th:only-of-type {\n",
       "        vertical-align: middle;\n",
       "    }\n",
       "\n",
       "    .dataframe tbody tr th {\n",
       "        vertical-align: top;\n",
       "    }\n",
       "\n",
       "    .dataframe thead th {\n",
       "        text-align: right;\n",
       "    }\n",
       "</style>\n",
       "<table border=\"1\" class=\"dataframe\">\n",
       "  <thead>\n",
       "    <tr style=\"text-align: right;\">\n",
       "      <th></th>\n",
       "      <th>Date</th>\n",
       "      <th>Weight in Pounds</th>\n",
       "      <th>BMI</th>\n",
       "      <th>Cholesterol</th>\n",
       "    </tr>\n",
       "  </thead>\n",
       "  <tbody>\n",
       "    <tr>\n",
       "      <th>0</th>\n",
       "      <td>1-Jul-93</td>\n",
       "      <td>201.38</td>\n",
       "      <td>85.35058</td>\n",
       "      <td>251</td>\n",
       "    </tr>\n",
       "    <tr>\n",
       "      <th>1</th>\n",
       "      <td>2-Jul-93</td>\n",
       "      <td>202.39</td>\n",
       "      <td>85.31267</td>\n",
       "      <td>255</td>\n",
       "    </tr>\n",
       "    <tr>\n",
       "      <th>2</th>\n",
       "      <td>3-Jul-93</td>\n",
       "      <td>188.84</td>\n",
       "      <td>85.13161</td>\n",
       "      <td>245</td>\n",
       "    </tr>\n",
       "    <tr>\n",
       "      <th>3</th>\n",
       "      <td>4-Jul-93</td>\n",
       "      <td>184.13</td>\n",
       "      <td>85.16573</td>\n",
       "      <td>236</td>\n",
       "    </tr>\n",
       "    <tr>\n",
       "      <th>4</th>\n",
       "      <td>5-Jul-93</td>\n",
       "      <td>192.51</td>\n",
       "      <td>85.15533</td>\n",
       "      <td>247</td>\n",
       "    </tr>\n",
       "  </tbody>\n",
       "</table>\n",
       "</div>"
      ],
      "text/plain": [
       "       Date  Weight in Pounds       BMI  Cholesterol\n",
       "0  1-Jul-93            201.38  85.35058          251\n",
       "1  2-Jul-93            202.39  85.31267          255\n",
       "2  3-Jul-93            188.84  85.13161          245\n",
       "3  4-Jul-93            184.13  85.16573          236\n",
       "4  5-Jul-93            192.51  85.15533          247"
      ]
     },
     "execution_count": 117,
     "metadata": {},
     "output_type": "execute_result"
    }
   ],
   "source": [
    "# Remove two unnamed columns\n",
    "df=df[['Date','Weight in Pounds','BMI','Cholesterol']]\n",
    "df.head()"
   ]
  },
  {
   "cell_type": "code",
   "execution_count": 118,
   "metadata": {},
   "outputs": [
    {
     "data": {
      "text/plain": [
       "(761, 4)"
      ]
     },
     "execution_count": 118,
     "metadata": {},
     "output_type": "execute_result"
    }
   ],
   "source": [
    "#check the shape of datasets\n",
    "df.shape"
   ]
  },
  {
   "cell_type": "code",
   "execution_count": 119,
   "metadata": {},
   "outputs": [
    {
     "data": {
      "text/html": [
       "<div>\n",
       "<style scoped>\n",
       "    .dataframe tbody tr th:only-of-type {\n",
       "        vertical-align: middle;\n",
       "    }\n",
       "\n",
       "    .dataframe tbody tr th {\n",
       "        vertical-align: top;\n",
       "    }\n",
       "\n",
       "    .dataframe thead th {\n",
       "        text-align: right;\n",
       "    }\n",
       "</style>\n",
       "<table border=\"1\" class=\"dataframe\">\n",
       "  <thead>\n",
       "    <tr style=\"text-align: right;\">\n",
       "      <th></th>\n",
       "      <th>Weight in Pounds</th>\n",
       "      <th>BMI</th>\n",
       "      <th>Cholesterol</th>\n",
       "    </tr>\n",
       "  </thead>\n",
       "  <tbody>\n",
       "    <tr>\n",
       "      <th>0</th>\n",
       "      <td>201.38</td>\n",
       "      <td>85.35058</td>\n",
       "      <td>251</td>\n",
       "    </tr>\n",
       "    <tr>\n",
       "      <th>1</th>\n",
       "      <td>202.39</td>\n",
       "      <td>85.31267</td>\n",
       "      <td>255</td>\n",
       "    </tr>\n",
       "    <tr>\n",
       "      <th>2</th>\n",
       "      <td>188.84</td>\n",
       "      <td>85.13161</td>\n",
       "      <td>245</td>\n",
       "    </tr>\n",
       "    <tr>\n",
       "      <th>3</th>\n",
       "      <td>184.13</td>\n",
       "      <td>85.16573</td>\n",
       "      <td>236</td>\n",
       "    </tr>\n",
       "    <tr>\n",
       "      <th>4</th>\n",
       "      <td>192.51</td>\n",
       "      <td>85.15533</td>\n",
       "      <td>247</td>\n",
       "    </tr>\n",
       "  </tbody>\n",
       "</table>\n",
       "</div>"
      ],
      "text/plain": [
       "   Weight in Pounds       BMI  Cholesterol\n",
       "0            201.38  85.35058          251\n",
       "1            202.39  85.31267          255\n",
       "2            188.84  85.13161          245\n",
       "3            184.13  85.16573          236\n",
       "4            192.51  85.15533          247"
      ]
     },
     "execution_count": 119,
     "metadata": {},
     "output_type": "execute_result"
    }
   ],
   "source": [
    "# Required columns\n",
    "df=df[['Weight in Pounds','BMI','Cholesterol']]\n",
    "df.head()"
   ]
  },
  {
   "cell_type": "code",
   "execution_count": 120,
   "metadata": {},
   "outputs": [],
   "source": [
    "# Convert dataframe to numpy array\n",
    "N = df.to_numpy()"
   ]
  },
  {
   "cell_type": "code",
   "execution_count": 121,
   "metadata": {},
   "outputs": [],
   "source": [
    "# \n",
    "n=np.around(N)"
   ]
  },
  {
   "cell_type": "code",
   "execution_count": 122,
   "metadata": {},
   "outputs": [
    {
     "data": {
      "text/plain": [
       "array([[201.,  85., 251.],\n",
       "       [202.,  85., 255.],\n",
       "       [189.,  85., 245.],\n",
       "       ...,\n",
       "       [214.,  85., 217.],\n",
       "       [214.,  85., 215.],\n",
       "       [215.,  85., 214.]])"
      ]
     },
     "execution_count": 122,
     "metadata": {},
     "output_type": "execute_result"
    }
   ],
   "source": [
    "n"
   ]
  },
  {
   "cell_type": "code",
   "execution_count": 123,
   "metadata": {},
   "outputs": [
    {
     "data": {
      "text/html": [
       "<div>\n",
       "<style scoped>\n",
       "    .dataframe tbody tr th:only-of-type {\n",
       "        vertical-align: middle;\n",
       "    }\n",
       "\n",
       "    .dataframe tbody tr th {\n",
       "        vertical-align: top;\n",
       "    }\n",
       "\n",
       "    .dataframe thead th {\n",
       "        text-align: right;\n",
       "    }\n",
       "</style>\n",
       "<table border=\"1\" class=\"dataframe\">\n",
       "  <thead>\n",
       "    <tr style=\"text-align: right;\">\n",
       "      <th></th>\n",
       "      <th>Weight</th>\n",
       "      <th>BMI</th>\n",
       "      <th>Cholesterol</th>\n",
       "    </tr>\n",
       "  </thead>\n",
       "  <tbody>\n",
       "    <tr>\n",
       "      <th>0</th>\n",
       "      <td>201.0</td>\n",
       "      <td>85.0</td>\n",
       "      <td>251.0</td>\n",
       "    </tr>\n",
       "    <tr>\n",
       "      <th>1</th>\n",
       "      <td>202.0</td>\n",
       "      <td>85.0</td>\n",
       "      <td>255.0</td>\n",
       "    </tr>\n",
       "    <tr>\n",
       "      <th>2</th>\n",
       "      <td>189.0</td>\n",
       "      <td>85.0</td>\n",
       "      <td>245.0</td>\n",
       "    </tr>\n",
       "    <tr>\n",
       "      <th>3</th>\n",
       "      <td>184.0</td>\n",
       "      <td>85.0</td>\n",
       "      <td>236.0</td>\n",
       "    </tr>\n",
       "    <tr>\n",
       "      <th>4</th>\n",
       "      <td>193.0</td>\n",
       "      <td>85.0</td>\n",
       "      <td>247.0</td>\n",
       "    </tr>\n",
       "  </tbody>\n",
       "</table>\n",
       "</div>"
      ],
      "text/plain": [
       "   Weight   BMI  Cholesterol\n",
       "0   201.0  85.0        251.0\n",
       "1   202.0  85.0        255.0\n",
       "2   189.0  85.0        245.0\n",
       "3   184.0  85.0        236.0\n",
       "4   193.0  85.0        247.0"
      ]
     },
     "execution_count": 123,
     "metadata": {},
     "output_type": "execute_result"
    }
   ],
   "source": [
    "# Again convert numpy array to dataframe\n",
    "df = pd.DataFrame(n,columns=['Weight','BMI','Cholesterol'])\n",
    "df.head()"
   ]
  },
  {
   "cell_type": "code",
   "execution_count": 124,
   "metadata": {},
   "outputs": [
    {
     "data": {
      "text/plain": [
       "Weight         0\n",
       "BMI            0\n",
       "Cholesterol    0\n",
       "dtype: int64"
      ]
     },
     "execution_count": 124,
     "metadata": {},
     "output_type": "execute_result"
    }
   ],
   "source": [
    "# checkig missing value of datasets\n",
    "df.isnull().sum()"
   ]
  },
  {
   "cell_type": "code",
   "execution_count": 125,
   "metadata": {},
   "outputs": [
    {
     "data": {
      "text/plain": [
       "112"
      ]
     },
     "execution_count": 125,
     "metadata": {},
     "output_type": "execute_result"
    }
   ],
   "source": [
    "# checking duplicate of datasets\n",
    "df.duplicated().sum()"
   ]
  },
  {
   "cell_type": "code",
   "execution_count": 126,
   "metadata": {},
   "outputs": [],
   "source": [
    "# Remove all duplicated values from datasets\n",
    "df=df.drop_duplicates()"
   ]
  },
  {
   "cell_type": "code",
   "execution_count": 127,
   "metadata": {},
   "outputs": [
    {
     "data": {
      "text/plain": [
       "0"
      ]
     },
     "execution_count": 127,
     "metadata": {},
     "output_type": "execute_result"
    }
   ],
   "source": [
    "df.duplicated().sum()"
   ]
  },
  {
   "cell_type": "code",
   "execution_count": 128,
   "metadata": {},
   "outputs": [
    {
     "data": {
      "text/plain": [
       "(649, 3)"
      ]
     },
     "execution_count": 128,
     "metadata": {},
     "output_type": "execute_result"
    }
   ],
   "source": [
    "df.shape"
   ]
  },
  {
   "cell_type": "code",
   "execution_count": 129,
   "metadata": {},
   "outputs": [
    {
     "data": {
      "text/html": [
       "<div>\n",
       "<style scoped>\n",
       "    .dataframe tbody tr th:only-of-type {\n",
       "        vertical-align: middle;\n",
       "    }\n",
       "\n",
       "    .dataframe tbody tr th {\n",
       "        vertical-align: top;\n",
       "    }\n",
       "\n",
       "    .dataframe thead th {\n",
       "        text-align: right;\n",
       "    }\n",
       "</style>\n",
       "<table border=\"1\" class=\"dataframe\">\n",
       "  <thead>\n",
       "    <tr style=\"text-align: right;\">\n",
       "      <th></th>\n",
       "      <th>Weight</th>\n",
       "      <th>BMI</th>\n",
       "      <th>Cholesterol</th>\n",
       "    </tr>\n",
       "  </thead>\n",
       "  <tbody>\n",
       "    <tr>\n",
       "      <th>0</th>\n",
       "      <td>201.0</td>\n",
       "      <td>85.0</td>\n",
       "      <td>251.0</td>\n",
       "    </tr>\n",
       "    <tr>\n",
       "      <th>1</th>\n",
       "      <td>202.0</td>\n",
       "      <td>85.0</td>\n",
       "      <td>255.0</td>\n",
       "    </tr>\n",
       "    <tr>\n",
       "      <th>2</th>\n",
       "      <td>189.0</td>\n",
       "      <td>85.0</td>\n",
       "      <td>245.0</td>\n",
       "    </tr>\n",
       "    <tr>\n",
       "      <th>3</th>\n",
       "      <td>184.0</td>\n",
       "      <td>85.0</td>\n",
       "      <td>236.0</td>\n",
       "    </tr>\n",
       "    <tr>\n",
       "      <th>4</th>\n",
       "      <td>193.0</td>\n",
       "      <td>85.0</td>\n",
       "      <td>247.0</td>\n",
       "    </tr>\n",
       "  </tbody>\n",
       "</table>\n",
       "</div>"
      ],
      "text/plain": [
       "   Weight   BMI  Cholesterol\n",
       "0   201.0  85.0        251.0\n",
       "1   202.0  85.0        255.0\n",
       "2   189.0  85.0        245.0\n",
       "3   184.0  85.0        236.0\n",
       "4   193.0  85.0        247.0"
      ]
     },
     "execution_count": 129,
     "metadata": {},
     "output_type": "execute_result"
    }
   ],
   "source": [
    "# Check first 5 rows\n",
    "df.head()"
   ]
  },
  {
   "cell_type": "code",
   "execution_count": 130,
   "metadata": {},
   "outputs": [
    {
     "name": "stdout",
     "output_type": "stream",
     "text": [
      "<class 'pandas.core.frame.DataFrame'>\n",
      "Int64Index: 649 entries, 0 to 760\n",
      "Data columns (total 3 columns):\n",
      " #   Column       Non-Null Count  Dtype  \n",
      "---  ------       --------------  -----  \n",
      " 0   Weight       649 non-null    float64\n",
      " 1   BMI          649 non-null    float64\n",
      " 2   Cholesterol  649 non-null    float64\n",
      "dtypes: float64(3)\n",
      "memory usage: 20.3 KB\n"
     ]
    }
   ],
   "source": [
    "df.info()"
   ]
  },
  {
   "cell_type": "code",
   "execution_count": 131,
   "metadata": {},
   "outputs": [
    {
     "data": {
      "text/html": [
       "<div>\n",
       "<style scoped>\n",
       "    .dataframe tbody tr th:only-of-type {\n",
       "        vertical-align: middle;\n",
       "    }\n",
       "\n",
       "    .dataframe tbody tr th {\n",
       "        vertical-align: top;\n",
       "    }\n",
       "\n",
       "    .dataframe thead th {\n",
       "        text-align: right;\n",
       "    }\n",
       "</style>\n",
       "<table border=\"1\" class=\"dataframe\">\n",
       "  <thead>\n",
       "    <tr style=\"text-align: right;\">\n",
       "      <th></th>\n",
       "      <th>Weight</th>\n",
       "      <th>BMI</th>\n",
       "      <th>Cholesterol</th>\n",
       "    </tr>\n",
       "  </thead>\n",
       "  <tbody>\n",
       "    <tr>\n",
       "      <th>count</th>\n",
       "      <td>649.000000</td>\n",
       "      <td>649.000000</td>\n",
       "      <td>649.000000</td>\n",
       "    </tr>\n",
       "    <tr>\n",
       "      <th>mean</th>\n",
       "      <td>204.904468</td>\n",
       "      <td>86.625578</td>\n",
       "      <td>255.436055</td>\n",
       "    </tr>\n",
       "    <tr>\n",
       "      <th>std</th>\n",
       "      <td>18.379155</td>\n",
       "      <td>2.357682</td>\n",
       "      <td>28.787096</td>\n",
       "    </tr>\n",
       "    <tr>\n",
       "      <th>min</th>\n",
       "      <td>28.000000</td>\n",
       "      <td>84.000000</td>\n",
       "      <td>0.000000</td>\n",
       "    </tr>\n",
       "    <tr>\n",
       "      <th>25%</th>\n",
       "      <td>205.000000</td>\n",
       "      <td>85.000000</td>\n",
       "      <td>242.000000</td>\n",
       "    </tr>\n",
       "    <tr>\n",
       "      <th>50%</th>\n",
       "      <td>209.000000</td>\n",
       "      <td>86.000000</td>\n",
       "      <td>263.000000</td>\n",
       "    </tr>\n",
       "    <tr>\n",
       "      <th>75%</th>\n",
       "      <td>212.000000</td>\n",
       "      <td>88.000000</td>\n",
       "      <td>272.000000</td>\n",
       "    </tr>\n",
       "    <tr>\n",
       "      <th>max</th>\n",
       "      <td>218.000000</td>\n",
       "      <td>98.000000</td>\n",
       "      <td>309.000000</td>\n",
       "    </tr>\n",
       "  </tbody>\n",
       "</table>\n",
       "</div>"
      ],
      "text/plain": [
       "           Weight         BMI  Cholesterol\n",
       "count  649.000000  649.000000   649.000000\n",
       "mean   204.904468   86.625578   255.436055\n",
       "std     18.379155    2.357682    28.787096\n",
       "min     28.000000   84.000000     0.000000\n",
       "25%    205.000000   85.000000   242.000000\n",
       "50%    209.000000   86.000000   263.000000\n",
       "75%    212.000000   88.000000   272.000000\n",
       "max    218.000000   98.000000   309.000000"
      ]
     },
     "execution_count": 131,
     "metadata": {},
     "output_type": "execute_result"
    }
   ],
   "source": [
    "# Statistical analysis of datasets\n",
    "df.describe()"
   ]
  },
  {
   "cell_type": "code",
   "execution_count": 132,
   "metadata": {},
   "outputs": [
    {
     "data": {
      "text/plain": [
       "(649, 3)"
      ]
     },
     "execution_count": 132,
     "metadata": {},
     "output_type": "execute_result"
    }
   ],
   "source": [
    "df.shape"
   ]
  },
  {
   "cell_type": "code",
   "execution_count": 133,
   "metadata": {},
   "outputs": [],
   "source": [
    "X = df.drop(['Cholesterol'],axis=1) # Independent Variables\n",
    "y = df[['Cholesterol']] # Target Variables"
   ]
  },
  {
   "cell_type": "code",
   "execution_count": 134,
   "metadata": {},
   "outputs": [
    {
     "data": {
      "text/plain": [
       "(649, 2)"
      ]
     },
     "execution_count": 134,
     "metadata": {},
     "output_type": "execute_result"
    }
   ],
   "source": [
    "X.shape"
   ]
  },
  {
   "cell_type": "code",
   "execution_count": 135,
   "metadata": {},
   "outputs": [
    {
     "data": {
      "text/plain": [
       "(649, 1)"
      ]
     },
     "execution_count": 135,
     "metadata": {},
     "output_type": "execute_result"
    }
   ],
   "source": [
    "y.shape"
   ]
  },
  {
   "cell_type": "code",
   "execution_count": 136,
   "metadata": {},
   "outputs": [
    {
     "data": {
      "image/png": "[encoded data removed]",
      "text/plain": [
       "<Figure size 1800x720 with 1 Axes>"
      ]
     },
     "metadata": {
      "needs_background": "light"
     },
     "output_type": "display_data"
    }
   ],
   "source": [
    "# Visualization of chalesterol level\n",
    "df['Cholesterol'].value_counts().plot(kind='bar',alpha=0.6,figsize=(25,10))\n",
    "plt.title(\"Cholesterol level\")\n",
    "plt.show()"
   ]
  },
  {
   "cell_type": "code",
   "execution_count": 137,
   "metadata": {},
   "outputs": [
    {
     "data": {
      "text/plain": [
       "255.43605546995377"
      ]
     },
     "execution_count": 137,
     "metadata": {},
     "output_type": "execute_result"
    }
   ],
   "source": [
    "# Average Cholesterol is\n",
    "df['Cholesterol'].mean()"
   ]
  },
  {
   "cell_type": "code",
   "execution_count": 138,
   "metadata": {},
   "outputs": [
    {
     "data": {
      "text/html": [
       "<div>\n",
       "<style scoped>\n",
       "    .dataframe tbody tr th:only-of-type {\n",
       "        vertical-align: middle;\n",
       "    }\n",
       "\n",
       "    .dataframe tbody tr th {\n",
       "        vertical-align: top;\n",
       "    }\n",
       "\n",
       "    .dataframe thead th {\n",
       "        text-align: right;\n",
       "    }\n",
       "</style>\n",
       "<table border=\"1\" class=\"dataframe\">\n",
       "  <thead>\n",
       "    <tr style=\"text-align: right;\">\n",
       "      <th></th>\n",
       "      <th>Weight</th>\n",
       "      <th>BMI</th>\n",
       "    </tr>\n",
       "    <tr>\n",
       "      <th>Cholesterol</th>\n",
       "      <th></th>\n",
       "      <th></th>\n",
       "    </tr>\n",
       "  </thead>\n",
       "  <tbody>\n",
       "    <tr>\n",
       "      <th>0.0</th>\n",
       "      <td>28.000000</td>\n",
       "      <td>85.000000</td>\n",
       "    </tr>\n",
       "    <tr>\n",
       "      <th>40.0</th>\n",
       "      <td>207.000000</td>\n",
       "      <td>85.000000</td>\n",
       "    </tr>\n",
       "    <tr>\n",
       "      <th>111.0</th>\n",
       "      <td>191.000000</td>\n",
       "      <td>85.000000</td>\n",
       "    </tr>\n",
       "    <tr>\n",
       "      <th>113.0</th>\n",
       "      <td>33.000000</td>\n",
       "      <td>88.000000</td>\n",
       "    </tr>\n",
       "    <tr>\n",
       "      <th>136.0</th>\n",
       "      <td>132.000000</td>\n",
       "      <td>86.000000</td>\n",
       "    </tr>\n",
       "    <tr>\n",
       "      <th>...</th>\n",
       "      <td>...</td>\n",
       "      <td>...</td>\n",
       "    </tr>\n",
       "    <tr>\n",
       "      <th>292.0</th>\n",
       "      <td>214.333333</td>\n",
       "      <td>84.666667</td>\n",
       "    </tr>\n",
       "    <tr>\n",
       "      <th>293.0</th>\n",
       "      <td>213.750000</td>\n",
       "      <td>84.500000</td>\n",
       "    </tr>\n",
       "    <tr>\n",
       "      <th>294.0</th>\n",
       "      <td>216.000000</td>\n",
       "      <td>85.000000</td>\n",
       "    </tr>\n",
       "    <tr>\n",
       "      <th>298.0</th>\n",
       "      <td>208.000000</td>\n",
       "      <td>84.000000</td>\n",
       "    </tr>\n",
       "    <tr>\n",
       "      <th>309.0</th>\n",
       "      <td>213.000000</td>\n",
       "      <td>86.000000</td>\n",
       "    </tr>\n",
       "  </tbody>\n",
       "</table>\n",
       "<p>109 rows × 2 columns</p>\n",
       "</div>"
      ],
      "text/plain": [
       "                 Weight        BMI\n",
       "Cholesterol                       \n",
       "0.0           28.000000  85.000000\n",
       "40.0         207.000000  85.000000\n",
       "111.0        191.000000  85.000000\n",
       "113.0         33.000000  88.000000\n",
       "136.0        132.000000  86.000000\n",
       "...                 ...        ...\n",
       "292.0        214.333333  84.666667\n",
       "293.0        213.750000  84.500000\n",
       "294.0        216.000000  85.000000\n",
       "298.0        208.000000  84.000000\n",
       "309.0        213.000000  86.000000\n",
       "\n",
       "[109 rows x 2 columns]"
      ]
     },
     "execution_count": 138,
     "metadata": {},
     "output_type": "execute_result"
    }
   ],
   "source": [
    "Cholesterol_W_BMI=df.groupby(by='Cholesterol').mean()\n",
    "Cholesterol_W_BMI"
   ]
  },
  {
   "cell_type": "markdown",
   "metadata": {},
   "source": [
    "- Here we see if Weight is high then Cholesterol level is also high"
   ]
  },
  {
   "cell_type": "code",
   "execution_count": 139,
   "metadata": {},
   "outputs": [
    {
     "data": {
      "text/plain": [
       "BMI    86.625578\n",
       "dtype: float64"
      ]
     },
     "execution_count": 139,
     "metadata": {},
     "output_type": "execute_result"
    }
   ],
   "source": [
    "# Average BMI index is\n",
    "df[['BMI']].mean()"
   ]
  },
  {
   "cell_type": "code",
   "execution_count": 140,
   "metadata": {},
   "outputs": [
    {
     "data": {
      "text/html": [
       "<div>\n",
       "<style scoped>\n",
       "    .dataframe tbody tr th:only-of-type {\n",
       "        vertical-align: middle;\n",
       "    }\n",
       "\n",
       "    .dataframe tbody tr th {\n",
       "        vertical-align: top;\n",
       "    }\n",
       "\n",
       "    .dataframe thead th {\n",
       "        text-align: right;\n",
       "    }\n",
       "</style>\n",
       "<table border=\"1\" class=\"dataframe\">\n",
       "  <thead>\n",
       "    <tr style=\"text-align: right;\">\n",
       "      <th></th>\n",
       "      <th>Weight</th>\n",
       "      <th>Cholesterol</th>\n",
       "    </tr>\n",
       "    <tr>\n",
       "      <th>BMI</th>\n",
       "      <th></th>\n",
       "      <th></th>\n",
       "    </tr>\n",
       "  </thead>\n",
       "  <tbody>\n",
       "    <tr>\n",
       "      <th>84.0</th>\n",
       "      <td>207.928571</td>\n",
       "      <td>269.833333</td>\n",
       "    </tr>\n",
       "    <tr>\n",
       "      <th>85.0</th>\n",
       "      <td>205.305085</td>\n",
       "      <td>247.610169</td>\n",
       "    </tr>\n",
       "    <tr>\n",
       "      <th>86.0</th>\n",
       "      <td>207.067961</td>\n",
       "      <td>264.990291</td>\n",
       "    </tr>\n",
       "    <tr>\n",
       "      <th>87.0</th>\n",
       "      <td>201.865169</td>\n",
       "      <td>259.280899</td>\n",
       "    </tr>\n",
       "    <tr>\n",
       "      <th>88.0</th>\n",
       "      <td>202.038961</td>\n",
       "      <td>256.077922</td>\n",
       "    </tr>\n",
       "    <tr>\n",
       "      <th>89.0</th>\n",
       "      <td>201.915254</td>\n",
       "      <td>254.864407</td>\n",
       "    </tr>\n",
       "    <tr>\n",
       "      <th>90.0</th>\n",
       "      <td>204.437500</td>\n",
       "      <td>253.500000</td>\n",
       "    </tr>\n",
       "    <tr>\n",
       "      <th>91.0</th>\n",
       "      <td>213.500000</td>\n",
       "      <td>244.000000</td>\n",
       "    </tr>\n",
       "    <tr>\n",
       "      <th>94.0</th>\n",
       "      <td>214.333333</td>\n",
       "      <td>262.666667</td>\n",
       "    </tr>\n",
       "    <tr>\n",
       "      <th>95.0</th>\n",
       "      <td>213.000000</td>\n",
       "      <td>251.750000</td>\n",
       "    </tr>\n",
       "    <tr>\n",
       "      <th>96.0</th>\n",
       "      <td>212.428571</td>\n",
       "      <td>258.571429</td>\n",
       "    </tr>\n",
       "    <tr>\n",
       "      <th>97.0</th>\n",
       "      <td>214.750000</td>\n",
       "      <td>246.750000</td>\n",
       "    </tr>\n",
       "    <tr>\n",
       "      <th>98.0</th>\n",
       "      <td>216.000000</td>\n",
       "      <td>253.000000</td>\n",
       "    </tr>\n",
       "  </tbody>\n",
       "</table>\n",
       "</div>"
      ],
      "text/plain": [
       "          Weight  Cholesterol\n",
       "BMI                          \n",
       "84.0  207.928571   269.833333\n",
       "85.0  205.305085   247.610169\n",
       "86.0  207.067961   264.990291\n",
       "87.0  201.865169   259.280899\n",
       "88.0  202.038961   256.077922\n",
       "89.0  201.915254   254.864407\n",
       "90.0  204.437500   253.500000\n",
       "91.0  213.500000   244.000000\n",
       "94.0  214.333333   262.666667\n",
       "95.0  213.000000   251.750000\n",
       "96.0  212.428571   258.571429\n",
       "97.0  214.750000   246.750000\n",
       "98.0  216.000000   253.000000"
      ]
     },
     "execution_count": 140,
     "metadata": {},
     "output_type": "execute_result"
    }
   ],
   "source": [
    "df.groupby(by='BMI').mean()"
   ]
  },
  {
   "cell_type": "code",
   "execution_count": 141,
   "metadata": {},
   "outputs": [],
   "source": [
    "# Splitting dataset into train,test,split\n",
    "from sklearn.model_selection import train_test_split\n",
    "X_train,X_test,y_train,y_test = train_test_split(X,y,test_size=0.20,random_state=42)"
   ]
  },
  {
   "cell_type": "code",
   "execution_count": 142,
   "metadata": {},
   "outputs": [
    {
     "name": "stdout",
     "output_type": "stream",
     "text": [
      "Shape of X_train: (519, 2)\n",
      "Shape of X_test: (130, 2)\n",
      "Shape of y_train: (519, 1)\n",
      "Shape of y_test: (130, 1)\n"
     ]
    }
   ],
   "source": [
    "# Checking the shape of data\n",
    "print(\"Shape of X_train:\",X_train.shape)\n",
    "print(\"Shape of X_test:\",X_test.shape)\n",
    "print(\"Shape of y_train:\",y_train.shape)\n",
    "print(\"Shape of y_test:\",y_test.shape)"
   ]
  },
  {
   "cell_type": "code",
   "execution_count": 143,
   "metadata": {},
   "outputs": [
    {
     "name": "stderr",
     "output_type": "stream",
     "text": [
      "<ipython-input-143-bcfe580727f9>:6: DataConversionWarning: A column-vector y was passed when a 1d array was expected. Please change the shape of y to (n_samples,), for example using ravel().\n",
      "  rf.fit(X_train,y_train)\n"
     ]
    }
   ],
   "source": [
    "# To predict cholesterol by using Random Forest Regressor algo\n",
    "from sklearn.ensemble import RandomForestRegressor\n",
    "rf = RandomForestRegressor(n_estimators=5, max_depth=5,criterion='squared_error',random_state=10,\n",
    "                           bootstrap=True)\n",
    "\n",
    "rf.fit(X_train,y_train)\n",
    "y_pred=rf.predict(X_test)"
   ]
  },
  {
   "cell_type": "code",
   "execution_count": 144,
   "metadata": {},
   "outputs": [
    {
     "data": {
      "text/plain": [
       "56.83961364344161"
      ]
     },
     "execution_count": 144,
     "metadata": {},
     "output_type": "execute_result"
    }
   ],
   "source": [
    "# Checking r2score and mean_squared_error\n",
    "from sklearn.metrics import r2_score,mean_squared_error\n",
    "r2_score(y_test,y_pred)*100"
   ]
  },
  {
   "cell_type": "code",
   "execution_count": 145,
   "metadata": {},
   "outputs": [],
   "source": [
    "# To predict cholesterol by using Linear Regressor algo\n",
    "from sklearn.linear_model import LinearRegression\n",
    "lr = LinearRegression()"
   ]
  },
  {
   "cell_type": "code",
   "execution_count": 146,
   "metadata": {},
   "outputs": [],
   "source": [
    "from sklearn.pipeline import make_pipeline"
   ]
  },
  {
   "cell_type": "markdown",
   "metadata": {},
   "source": [
    "#### Finding the model with a random state of TrainTestSplit where the model was found to give almost 0.73 as r2_score"
   ]
  },
  {
   "cell_type": "code",
   "execution_count": 147,
   "metadata": {},
   "outputs": [],
   "source": [
    "scores=[]\n",
    "for i in range(1000):\n",
    "    X_train,X_test,y_train,y_test=train_test_split(X,y,test_size=0.1,random_state=i)\n",
    "    lr=LinearRegression()\n",
    "    pipe=make_pipeline(lr)\n",
    "    pipe.fit(X_train,y_train)\n",
    "    lr_pred=pipe.predict(X_test)\n",
    "    scores.append(r2_score(y_test,lr_pred))"
   ]
  },
  {
   "cell_type": "code",
   "execution_count": 148,
   "metadata": {},
   "outputs": [
    {
     "data": {
      "text/plain": [
       "735"
      ]
     },
     "execution_count": 148,
     "metadata": {},
     "output_type": "execute_result"
    }
   ],
   "source": [
    "np.argmax(scores)"
   ]
  },
  {
   "cell_type": "code",
   "execution_count": 149,
   "metadata": {},
   "outputs": [
    {
     "data": {
      "text/plain": [
       "0.7365819458347393"
      ]
     },
     "execution_count": 149,
     "metadata": {},
     "output_type": "execute_result"
    }
   ],
   "source": [
    "scores[np.argmax(scores)]"
   ]
  },
  {
   "cell_type": "markdown",
   "metadata": {},
   "source": [
    "#### The best model is found at a certain random state"
   ]
  },
  {
   "cell_type": "code",
   "execution_count": 78,
   "metadata": {},
   "outputs": [
    {
     "data": {
      "text/plain": [
       "73.65819458347393"
      ]
     },
     "execution_count": 78,
     "metadata": {},
     "output_type": "execute_result"
    }
   ],
   "source": [
    "X_train,X_test,y_train,y_test=train_test_split(X,y,test_size=0.1,random_state=np.argmax(scores))\n",
    "lr = LinearRegression()\n",
    "pipe=make_pipeline(lr)\n",
    "pipe.fit(X_train,y_train)\n",
    "y_pred=pipe.predict(X_test)\n",
    "r2_score(y_test,y_pred)*100"
   ]
  },
  {
   "cell_type": "code",
   "execution_count": 79,
   "metadata": {},
   "outputs": [
    {
     "name": "stdout",
     "output_type": "stream",
     "text": [
      "Prediction of cholesterol is: [[332.84604028]]\n"
     ]
    },
    {
     "name": "stderr",
     "output_type": "stream",
     "text": [
      "C:\\Users\\Hp\\anaconda3\\lib\\site-packages\\sklearn\\base.py:450: UserWarning: X does not have valid feature names, but LinearRegression was fitted with feature names\n",
      "  warnings.warn(\n"
     ]
    }
   ],
   "source": [
    "# If we check cholesterol level by using some random number of weight and BMI. \n",
    "pred = lr.predict(np.array([[301,\n",
    "                           86]]))\n",
    "print('Prediction of cholesterol is:',pred)"
   ]
  },
  {
   "cell_type": "code",
   "execution_count": 75,
   "metadata": {},
   "outputs": [
    {
     "name": "stderr",
     "output_type": "stream",
     "text": [
      "C:\\Users\\Hp\\anaconda3\\lib\\site-packages\\sklearn\\base.py:450: UserWarning: X does not have valid feature names, but LinearRegression was fitted with feature names\n",
      "  warnings.warn(\n"
     ]
    },
    {
     "data": {
      "text/plain": [
       "array([[252.23485508],\n",
       "       [253.0415253 ],\n",
       "       [242.55481245],\n",
       "       [238.52146135],\n",
       "       [245.78149333],\n",
       "       [252.23485508],\n",
       "       [251.42818486],\n",
       "       [255.46153596],\n",
       "       [256.26820618],\n",
       "       [255.46153596],\n",
       "       [256.26820618],\n",
       "       [257.88154662],\n",
       "       [255.46153596],\n",
       "       [255.29402579],\n",
       "       [256.10069601],\n",
       "       [254.54319229],\n",
       "       [252.87401513],\n",
       "       [253.73652207],\n",
       "       [253.68068535],\n",
       "       [254.48735557],\n",
       "       [255.29402579],\n",
       "       [256.04485929],\n",
       "       [257.76987317],\n",
       "       [255.40569924],\n",
       "       [250.56567792],\n",
       "       [258.63238011],\n",
       "       [257.76987317],\n",
       "       [257.76987317],\n",
       "       [259.38321361],\n",
       "       [258.57654339],\n",
       "       [256.96320295],\n",
       "       [257.82570989],\n",
       "       [259.43905033],\n",
       "       [258.68821683],\n",
       "       [258.52070667],\n",
       "       [258.57654339],\n",
       "       [256.90736623],\n",
       "       [259.38321361],\n",
       "       [253.7923588 ],\n",
       "       [254.48735557],\n",
       "       [256.26820618],\n",
       "       [252.87401513],\n",
       "       [148.81355686],\n",
       "       [241.52479534],\n",
       "       [242.38730228],\n",
       "       [244.80731294],\n",
       "       [243.1939725 ],\n",
       "       [243.24980922],\n",
       "       [244.91898639],\n",
       "       [244.75147622],\n",
       "       [245.50230971],\n",
       "       [245.50230971],\n",
       "       [246.36481666],\n",
       "       [247.97815709],\n",
       "       [248.95233748],\n",
       "       [250.5098412 ],\n",
       "       [249.7590077 ],\n",
       "       [251.37234814],\n",
       "       [249.7590077 ],\n",
       "       [252.98568858],\n",
       "       [252.98568858],\n",
       "       [252.98568858],\n",
       "       [252.87401513],\n",
       "       [252.76234169],\n",
       "       [251.20483797],\n",
       "       [248.78482731],\n",
       "       [250.39816775],\n",
       "       [248.84066404],\n",
       "       [245.50230971],\n",
       "       [248.72899059],\n",
       "       [247.28316032],\n",
       "       [247.17148688],\n",
       "       [247.92232037],\n",
       "       [247.17148688],\n",
       "       [249.59149753],\n",
       "       [251.31651142],\n",
       "       [252.12318164],\n",
       "       [251.31651142],\n",
       "       [253.73652207],\n",
       "       [250.5098412 ],\n",
       "       [256.21236945],\n",
       "       [257.82570989],\n",
       "       [256.90736623],\n",
       "       [258.52070667],\n",
       "       [258.57654339],\n",
       "       [260.24572055],\n",
       "       [262.66573121],\n",
       "       [259.38321361],\n",
       "       [261.10822749],\n",
       "       [262.66573121],\n",
       "       [261.74738754],\n",
       "       [261.74738754],\n",
       "       [262.60989449],\n",
       "       [261.80322427],\n",
       "       [263.36072798],\n",
       "       [264.27907165],\n",
       "       [260.94071732],\n",
       "       [260.94071732],\n",
       "       [260.1340471 ],\n",
       "       [260.94071732],\n",
       "       [262.55405776],\n",
       "       [260.24572055],\n",
       "       [261.85906099],\n",
       "       [261.85906099],\n",
       "       [258.52070667],\n",
       "       [250.45400447],\n",
       "       [179.41118846],\n",
       "       [219.74469942],\n",
       "       [248.78482731],\n",
       "       [244.86314966],\n",
       "       [142.41603183],\n",
       "       [211.0946739 ],\n",
       "       [256.26820618],\n",
       "       [251.42818486],\n",
       "       [253.7923588 ],\n",
       "       [256.21236945],\n",
       "       [257.01903967],\n",
       "       [258.68821683],\n",
       "       [259.49488705],\n",
       "       [258.68821683],\n",
       "       [257.0748764 ],\n",
       "       [259.49488705],\n",
       "       [259.49488705],\n",
       "       [257.0748764 ],\n",
       "       [258.68821683],\n",
       "       [259.49488705],\n",
       "       [259.49488705],\n",
       "       [261.91489771],\n",
       "       [259.49488705],\n",
       "       [261.05239077],\n",
       "       [260.30155727],\n",
       "       [259.49488705],\n",
       "       [259.49488705],\n",
       "       [258.68821683],\n",
       "       [257.88154662],\n",
       "       [257.88154662],\n",
       "       [258.68821683],\n",
       "       [259.49488705],\n",
       "       [259.49488705],\n",
       "       [257.0748764 ],\n",
       "       [259.49488705],\n",
       "       [260.30155727],\n",
       "       [257.88154662],\n",
       "       [261.05239077],\n",
       "       [261.74738754],\n",
       "       [260.18988383],\n",
       "       [260.1340471 ],\n",
       "       [260.18988383],\n",
       "       [260.94071732],\n",
       "       [260.8848806 ],\n",
       "       [262.55405776],\n",
       "       [262.60989449],\n",
       "       [260.18988383],\n",
       "       [260.94071732],\n",
       "       [261.74738754],\n",
       "       [261.85906099],\n",
       "       [261.05239077],\n",
       "       [261.80322427],\n",
       "       [261.05239077],\n",
       "       [262.66573121],\n",
       "       [261.85906099],\n",
       "       [260.24572055],\n",
       "       [260.30155727],\n",
       "       [261.91489771],\n",
       "       [261.10822749],\n",
       "       [260.99655405],\n",
       "       [260.99655405],\n",
       "       [262.49822104],\n",
       "       [260.94071732],\n",
       "       [261.91489771],\n",
       "       [261.80322427],\n",
       "       [260.94071732],\n",
       "       [261.10822749],\n",
       "       [244.16815289],\n",
       "       [112.68090716],\n",
       "       [225.61473785],\n",
       "       [256.26820618],\n",
       "       [253.0415253 ],\n",
       "       [252.98568858],\n",
       "       [257.01903967],\n",
       "       [257.88154662],\n",
       "       [259.43905033],\n",
       "       [261.91489771],\n",
       "       [260.357394  ],\n",
       "       [260.357394  ],\n",
       "       [261.97073443],\n",
       "       [262.77740465],\n",
       "       [261.10822749],\n",
       "       [261.85906099],\n",
       "       [261.05239077],\n",
       "       [261.69155082],\n",
       "       [261.6357141 ],\n",
       "       [260.82904388],\n",
       "       [260.8848806 ],\n",
       "       [262.55405776],\n",
       "       [262.60989449],\n",
       "       [262.60989449],\n",
       "       [258.40903322],\n",
       "       [256.85152951],\n",
       "       [258.52070667],\n",
       "       [257.71403645],\n",
       "       [257.71403645],\n",
       "       [257.01903967],\n",
       "       [259.38321361],\n",
       "       [261.69155082],\n",
       "       [260.8848806 ],\n",
       "       [260.1340471 ],\n",
       "       [258.63238011],\n",
       "       [261.85906099],\n",
       "       [260.30155727],\n",
       "       [261.10822749],\n",
       "       [259.38321361],\n",
       "       [257.01903967],\n",
       "       [257.0748764 ],\n",
       "       [257.0748764 ],\n",
       "       [258.63238011],\n",
       "       [258.68821683],\n",
       "       [254.65486574],\n",
       "       [253.84819552],\n",
       "       [253.7923588 ],\n",
       "       [255.46153596],\n",
       "       [252.17901836],\n",
       "       [254.59902902],\n",
       "       [257.82570989],\n",
       "       [258.63238011],\n",
       "       [257.76987317],\n",
       "       [256.10069601],\n",
       "       [256.10069601],\n",
       "       [256.90736623],\n",
       "       [259.27154016],\n",
       "       [258.40903322],\n",
       "       [256.90736623],\n",
       "       [256.21236945],\n",
       "       [256.15653273],\n",
       "       [255.34986251],\n",
       "       [254.54319229],\n",
       "       [255.34986251],\n",
       "       [254.43151885],\n",
       "       [254.43151885],\n",
       "       [254.54319229],\n",
       "       [252.92985185],\n",
       "       [258.57654339],\n",
       "       [259.32737689],\n",
       "       [257.65819972],\n",
       "       [258.57654339],\n",
       "       [194.9054328 ],\n",
       "       [251.37234814],\n",
       "       [251.37234814],\n",
       "       [252.98568858],\n",
       "       [252.98568858],\n",
       "       [256.26820618],\n",
       "       [257.82570989],\n",
       "       [253.7923588 ],\n",
       "       [257.82570989],\n",
       "       [257.88154662],\n",
       "       [257.0748764 ],\n",
       "       [257.01903967],\n",
       "       [255.46153596],\n",
       "       [254.65486574],\n",
       "       [255.46153596],\n",
       "       [257.0748764 ],\n",
       "       [256.90736623],\n",
       "       [257.0748764 ],\n",
       "       [256.21236945],\n",
       "       [253.84819552],\n",
       "       [256.26820618],\n",
       "       [253.7923588 ],\n",
       "       [256.15653273],\n",
       "       [256.15653273],\n",
       "       [255.29402579],\n",
       "       [256.04485929],\n",
       "       [256.96320295],\n",
       "       [256.96320295],\n",
       "       [256.15653273],\n",
       "       [176.29618103],\n",
       "       [253.73652207],\n",
       "       [257.71403645],\n",
       "       [258.52070667],\n",
       "       [259.32737689],\n",
       "       [259.27154016],\n",
       "       [259.32737689],\n",
       "       [258.57654339],\n",
       "       [257.71403645],\n",
       "       [256.85152951],\n",
       "       [257.602363  ],\n",
       "       [257.65819972],\n",
       "       [256.10069601],\n",
       "       [255.29402579],\n",
       "       [254.54319229],\n",
       "       [252.92985185],\n",
       "       [256.10069601],\n",
       "       [255.23818907],\n",
       "       [260.8848806 ],\n",
       "       [258.40903322],\n",
       "       [256.96320295],\n",
       "       [256.90736623],\n",
       "       [256.85152951],\n",
       "       [259.27154016],\n",
       "       [257.71403645],\n",
       "       [259.38321361],\n",
       "       [257.76987317],\n",
       "       [257.76987317],\n",
       "       [260.18988383],\n",
       "       [259.43905033],\n",
       "       [260.8848806 ],\n",
       "       [258.3531965 ],\n",
       "       [256.85152951],\n",
       "       [257.76987317],\n",
       "       [256.79569278],\n",
       "       [116.54674809],\n",
       "       [205.2804722 ],\n",
       "       [244.86314966],\n",
       "       [247.28316032],\n",
       "       [247.28316032],\n",
       "       [216.57385527],\n",
       "       [247.97815709],\n",
       "       [254.43151885],\n",
       "       [253.62484863],\n",
       "       [253.62484863],\n",
       "       [246.53232682],\n",
       "       [255.40569924],\n",
       "       [253.0415253 ],\n",
       "       [253.0415253 ],\n",
       "       [255.46153596],\n",
       "       [253.0415253 ],\n",
       "       [255.40569924],\n",
       "       [256.21236945],\n",
       "       [258.52070667],\n",
       "       [256.10069601],\n",
       "       [257.65819972],\n",
       "       [257.65819972],\n",
       "       [259.32737689],\n",
       "       [260.30155727],\n",
       "       [261.85906099],\n",
       "       [261.91489771],\n",
       "       [261.97073443],\n",
       "       [260.24572055],\n",
       "       [260.99655405],\n",
       "       [260.1340471 ],\n",
       "       [264.1673982 ],\n",
       "       [261.80322427],\n",
       "       [261.80322427],\n",
       "       [260.94071732],\n",
       "       [261.74738754],\n",
       "       [261.69155082],\n",
       "       [260.07821038],\n",
       "       [188.28456087],\n",
       "       [239.21645813],\n",
       "       [237.60311769],\n",
       "       [237.54728097],\n",
       "       [236.79644747],\n",
       "       [243.13813578],\n",
       "       [249.64733426],\n",
       "       [256.04485929],\n",
       "       [257.65819972],\n",
       "       [258.46486994],\n",
       "       [256.85152951],\n",
       "       [257.65819972],\n",
       "       [257.76987317],\n",
       "       [260.1340471 ],\n",
       "       [257.65819972],\n",
       "       [260.07821038],\n",
       "       [258.57654339],\n",
       "       [260.18988383],\n",
       "       [259.43905033],\n",
       "       [257.01903967],\n",
       "       [259.38321361],\n",
       "       [257.76987317],\n",
       "       [258.57654339],\n",
       "       [260.24572055],\n",
       "       [258.63238011],\n",
       "       [259.43905033],\n",
       "       [259.43905033],\n",
       "       [259.32737689],\n",
       "       [258.57654339],\n",
       "       [257.82570989],\n",
       "       [259.43905033],\n",
       "       [258.63238011],\n",
       "       [259.43905033],\n",
       "       [257.82570989],\n",
       "       [259.38321361],\n",
       "       [257.82570989],\n",
       "       [258.63238011],\n",
       "       [253.7923588 ],\n",
       "       [260.18988383],\n",
       "       [256.79569278],\n",
       "       [257.71403645],\n",
       "       [256.85152951],\n",
       "       [259.38321361],\n",
       "       [258.57654339],\n",
       "       [259.21570344],\n",
       "       [261.6357141 ],\n",
       "       [260.18988383],\n",
       "       [261.85906099],\n",
       "       [261.85906099],\n",
       "       [261.05239077],\n",
       "       [260.07821038],\n",
       "       [259.32737689],\n",
       "       [259.43905033],\n",
       "       [260.24572055],\n",
       "       [260.24572055],\n",
       "       [259.27154016],\n",
       "       [258.46486994],\n",
       "       [256.96320295],\n",
       "       [258.57654339],\n",
       "       [260.24572055],\n",
       "       [261.05239077],\n",
       "       [260.94071732],\n",
       "       [260.07821038],\n",
       "       [261.85906099],\n",
       "       [260.18988383],\n",
       "       [260.24572055],\n",
       "       [258.68821683],\n",
       "       [259.55072378],\n",
       "       [257.93738334],\n",
       "       [258.74405356],\n",
       "       [260.357394  ],\n",
       "       [261.10822749],\n",
       "       [261.05239077],\n",
       "       [263.52823815],\n",
       "       [259.43905033],\n",
       "       [263.4165647 ],\n",
       "       [261.85906099],\n",
       "       [264.33490837],\n",
       "       [257.93738334],\n",
       "       [261.16406421],\n",
       "       [258.74405356],\n",
       "       [259.55072378],\n",
       "       [263.52823815],\n",
       "       [261.91489771],\n",
       "       [260.24572055],\n",
       "       [259.49488705],\n",
       "       [259.49488705],\n",
       "       [256.3240429 ],\n",
       "       [259.49488705],\n",
       "       [259.49488705],\n",
       "       [258.68821683],\n",
       "       [253.84819552],\n",
       "       [257.88154662],\n",
       "       [255.46153596],\n",
       "       [212.70801434],\n",
       "       [251.42818486],\n",
       "       [254.65486574],\n",
       "       [252.23485508],\n",
       "       [249.0081742 ],\n",
       "       [250.62151464],\n",
       "       [248.20150399],\n",
       "       [251.42818486],\n",
       "       [256.26820618],\n",
       "       [264.33490837],\n",
       "       [260.30155727],\n",
       "       [254.65486574],\n",
       "       [257.0748764 ],\n",
       "       [257.0748764 ],\n",
       "       [256.26820618],\n",
       "       [258.68821683],\n",
       "       [257.0748764 ],\n",
       "       [260.30155727],\n",
       "       [257.88154662],\n",
       "       [257.0748764 ],\n",
       "       [260.30155727],\n",
       "       [247.39483377],\n",
       "       [247.39483377],\n",
       "       [252.2906918 ],\n",
       "       [251.48402158],\n",
       "       [249.70317098],\n",
       "       [249.06401093],\n",
       "       [244.22398961],\n",
       "       [244.22398961],\n",
       "       [245.83733005],\n",
       "       [252.2906918 ],\n",
       "       [255.51737268],\n",
       "       [257.13071312],\n",
       "       [260.357394  ],\n",
       "       [261.91489771],\n",
       "       [259.55072378],\n",
       "       [261.16406421],\n",
       "       [260.357394  ],\n",
       "       [261.97073443],\n",
       "       [260.357394  ],\n",
       "       [262.77740465],\n",
       "       [261.16406421],\n",
       "       [260.357394  ],\n",
       "       [258.74405356],\n",
       "       [259.55072378],\n",
       "       [262.77740465],\n",
       "       [261.91489771],\n",
       "       [261.91489771],\n",
       "       [261.10822749],\n",
       "       [263.52823815],\n",
       "       [262.72156793],\n",
       "       [257.0748764 ],\n",
       "       [254.65486574],\n",
       "       [257.0748764 ],\n",
       "       [252.23485508],\n",
       "       [257.88154662],\n",
       "       [257.0748764 ],\n",
       "       [261.91489771],\n",
       "       [260.357394  ],\n",
       "       [261.91489771],\n",
       "       [261.16406421],\n",
       "       [262.72156793],\n",
       "       [257.93738334],\n",
       "       [261.91489771],\n",
       "       [259.49488705],\n",
       "       [259.49488705],\n",
       "       [257.0748764 ],\n",
       "       [261.10822749],\n",
       "       [258.74405356],\n",
       "       [261.91489771],\n",
       "       [260.357394  ],\n",
       "       [259.49488705],\n",
       "       [258.68821683],\n",
       "       [257.88154662],\n",
       "       [255.46153596],\n",
       "       [256.26820618],\n",
       "       [257.0748764 ],\n",
       "       [256.26820618],\n",
       "       [255.46153596],\n",
       "       [257.88154662],\n",
       "       [258.68821683],\n",
       "       [260.30155727],\n",
       "       [257.88154662],\n",
       "       [258.68821683],\n",
       "       [259.49488705],\n",
       "       [257.0748764 ],\n",
       "       [257.0748764 ],\n",
       "       [257.88154662],\n",
       "       [260.30155727],\n",
       "       [257.0748764 ],\n",
       "       [257.0748764 ],\n",
       "       [258.68821683],\n",
       "       [255.46153596],\n",
       "       [253.0415253 ],\n",
       "       [244.16815289],\n",
       "       [257.0748764 ],\n",
       "       [257.0748764 ],\n",
       "       [254.65486574],\n",
       "       [253.84819552],\n",
       "       [254.65486574],\n",
       "       [179.63453535],\n",
       "       [224.80806763],\n",
       "       [224.80806763],\n",
       "       [228.03474851],\n",
       "       [192.54125886],\n",
       "       [248.20150399],\n",
       "       [253.0415253 ],\n",
       "       [251.42818486],\n",
       "       [251.42818486],\n",
       "       [259.49488705],\n",
       "       [262.72156793],\n",
       "       [211.90134412],\n",
       "       [229.64808894],\n",
       "       [249.81484442],\n",
       "       [257.88154662],\n",
       "       [260.77320716],\n",
       "       [260.94071732],\n",
       "       [261.69155082],\n",
       "       [262.05152726],\n",
       "       [261.10822749],\n",
       "       [259.55072378],\n",
       "       [253.90403224],\n",
       "       [246.58816355],\n",
       "       [246.58816355],\n",
       "       [249.0081742 ],\n",
       "       [254.65486574],\n",
       "       [252.17901836],\n",
       "       [133.54265941],\n",
       "       [240.88563529],\n",
       "       [250.62151464],\n",
       "       [258.68821683],\n",
       "       [258.68821683],\n",
       "       [257.0748764 ],\n",
       "       [262.72156793],\n",
       "       [260.30155727],\n",
       "       [264.33490837],\n",
       "       [265.94824881],\n",
       "       [265.94824881],\n",
       "       [265.14157859],\n",
       "       [265.14157859],\n",
       "       [265.14157859],\n",
       "       [264.33490837],\n",
       "       [265.14157859],\n",
       "       [264.33490837],\n",
       "       [263.52823815],\n",
       "       [265.14157859],\n",
       "       [262.72156793],\n",
       "       [264.33490837],\n",
       "       [265.14157859],\n",
       "       [264.33490837],\n",
       "       [263.47240143],\n",
       "       [262.72156793],\n",
       "       [262.72156793],\n",
       "       [261.10822749],\n",
       "       [259.49488705],\n",
       "       [263.52823815],\n",
       "       [261.91489771],\n",
       "       [261.91489771],\n",
       "       [261.74738754],\n",
       "       [260.54986026],\n",
       "       [262.1632007 ],\n",
       "       [260.54986026],\n",
       "       [261.41236721],\n",
       "       [261.30069376],\n",
       "       [254.84733201],\n",
       "       [263.30489126],\n",
       "       [262.96987092],\n",
       "       [263.72070442],\n",
       "       [262.85819748],\n",
       "       [263.60903097],\n",
       "       [262.05152726],\n",
       "       [263.6648677 ],\n",
       "       [262.9140342 ],\n",
       "       [262.1632007 ],\n",
       "       [261.35653048],\n",
       "       [263.72070442],\n",
       "       [260.54986026],\n",
       "       [263.83237786],\n",
       "       [260.49402354],\n",
       "       [258.8806831 ],\n",
       "       [262.21903743],\n",
       "       [261.85906099],\n",
       "       [263.4165647 ],\n",
       "       [263.19321781],\n",
       "       [262.72156793],\n",
       "       [264.33490837],\n",
       "       [264.33490837],\n",
       "       [265.14157859],\n",
       "       [265.94824881],\n",
       "       [263.52823815],\n",
       "       [264.33490837],\n",
       "       [264.27907165],\n",
       "       [264.33490837],\n",
       "       [264.33490837],\n",
       "       [260.54986026],\n",
       "       [265.61322847],\n",
       "       [265.94824881],\n",
       "       [262.72156793],\n",
       "       [261.91489771],\n",
       "       [265.14157859],\n",
       "       [265.94824881],\n",
       "       [264.27907165],\n",
       "       [264.27907165],\n",
       "       [260.30155727],\n",
       "       [261.10822749],\n",
       "       [261.91489771],\n",
       "       [262.72156793],\n",
       "       [262.72156793],\n",
       "       [263.52823815]])"
      ]
     },
     "execution_count": 75,
     "metadata": {},
     "output_type": "execute_result"
    }
   ],
   "source": [
    "# Prediction check by using all Weight and BMI\n",
    "predict=lr.predict(np.array(df[['Weight','BMI']]))\n",
    "                           \n",
    "predict"
   ]
  },
  {
   "cell_type": "code",
   "execution_count": 73,
   "metadata": {},
   "outputs": [],
   "source": [
    "import pickle"
   ]
  },
  {
   "cell_type": "code",
   "execution_count": 74,
   "metadata": {},
   "outputs": [],
   "source": [
    "pickle.dump(df.to_dict(),open('BMI_dict.pkl','wb'))"
   ]
  },
  {
   "cell_type": "code",
   "execution_count": null,
   "metadata": {},
   "outputs": [],
   "source": []
  },
  {
   "cell_type": "code",
   "execution_count": null,
   "metadata": {},
   "outputs": [],
   "source": []
  }
 ],
 "metadata": {
  "kernelspec": {
   "display_name": "Python 3",
   "language": "python",
   "name": "python3"
  },
  "language_info": {
   "codemirror_mode": {
    "name": "ipython",
    "version": 3
   },
   "file_extension": ".py",
   "mimetype": "text/x-python",
   "name": "python",
   "nbconvert_exporter": "python",
   "pygments_lexer": "ipython3",
   "version": "3.8.3"
  }
 },
 "nbformat": 4,
 "nbformat_minor": 4
}
